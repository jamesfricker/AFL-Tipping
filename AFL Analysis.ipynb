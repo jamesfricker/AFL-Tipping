{
 "cells": [
  {
   "cell_type": "code",
   "execution_count": 1,
   "id": "991c0f0b",
   "metadata": {},
   "outputs": [],
   "source": [
    "import pandas as pd\n",
    "import numpy as np\n",
    "import matplotlib.pyplot as plt\n",
    "import seaborn as sns"
   ]
  },
  {
   "cell_type": "code",
   "execution_count": 2,
   "id": "ad833bf4",
   "metadata": {},
   "outputs": [],
   "source": [
    "df_games = pd.read_csv(\"games.csv\")\n",
    "df_players = pd.read_csv(\"players.csv\")\n",
    "df_stats = pd.read_csv(\"stats.csv\")"
   ]
  },
  {
   "cell_type": "code",
   "execution_count": 3,
   "id": "d43490c8",
   "metadata": {},
   "outputs": [],
   "source": [
    "def find_winner(x):\n",
    "    if x.homeTeamScore > x.awayTeamScore:\n",
    "        return x.homeTeam\n",
    "    elif x.homeTeamScore < x.awayTeamScore:\n",
    "        return x.awayTeam\n",
    "    return 'NA'\n",
    "\n",
    "# create a winning team column \n",
    "df_games['winningTeam'] = df_games.apply(lambda x: find_winner(x),axis=1)\n",
    "\n",
    "# create a losing team columns\n",
    "df_games['losingTeam'] = df_games.apply(lambda x: x.awayTeam if x.homeTeam==x.winningTeam else x.homeTeam ,axis=1)\n",
    "\n",
    "# create a year_round_id column\n",
    "df_games['yearRoundId'] = df_games.apply(lambda x: x.gameId[:-2],axis=1)\n",
    "\n",
    "# create margin column\n",
    "df_games['margin'] = df_games.apply(lambda x: abs(x.homeTeamScore - x.awayTeamScore),axis=1)\n",
    "\n",
    "# convert date to a date object so we can sort\n",
    "df_games['date'] = pd.to_datetime(df_games['date'])\n",
    "\n",
    "# earliest games are now first\n",
    "df_games = df_games.sort_values(by=['date'],ascending=True)"
   ]
  },
  {
   "cell_type": "code",
   "execution_count": 4,
   "id": "4179e416",
   "metadata": {},
   "outputs": [],
   "source": [
    "teams = df_games['homeTeam'].unique()\n",
    "teams.sort()\n",
    "teams = teams.tolist()\n",
    "teams.append('NA')"
   ]
  },
  {
   "cell_type": "code",
   "execution_count": 5,
   "id": "31f99994",
   "metadata": {},
   "outputs": [],
   "source": [
    "def update_elo(winner_elo, loser_elo):\n",
    "    \"\"\"\n",
    "    update the ELO ratings\n",
    "    \"\"\"\n",
    "    expected_win = expected_result(winner_elo, loser_elo)\n",
    "    #expected_win_margin = expected_margin(winner_elo, loser_elo)\n",
    "    change_in_elo = k_factor * (1-expected_win)\n",
    "    winner_elo += change_in_elo\n",
    "    loser_elo -= change_in_elo\n",
    "    return winner_elo, loser_elo\n",
    "\n",
    "def expected_result(elo_a, elo_b):\n",
    "    \"\"\"\n",
    "    https://en.wikipedia.org/wiki/Elo_rating_system#Mathematical_details\n",
    "    \"\"\"\n",
    "    expect_a = 1.0/(1+10**((elo_b - elo_a)/elo_width))\n",
    "    return expect_a\n",
    "\n",
    "def expected_margin(elo_a, elo_b):\n",
    "    \"\"\"\n",
    "    https://en.wikipedia.org/wiki/Elo_rating_system#Mathematical_details\n",
    "    \"\"\"\n",
    "    expect_a = (elo_a - elo_b)/sigma\n",
    "    print(expect_a)\n",
    "    return expect_a\n",
    "\n",
    "def update_end_of_season(elos):\n",
    "    \"\"\"Regression towards the mean\n",
    "    \n",
    "    Following 538 nfl methods\n",
    "    https://fivethirtyeight.com/datalab/nfl-elo-ratings-are-back/\n",
    "    \"\"\"\n",
    "    diff_from_mean = elos - mean_elo\n",
    "    elos -= diff_from_mean/3\n",
    "    return elos"
   ]
  },
  {
   "cell_type": "code",
   "execution_count": 6,
   "id": "ddb213a7",
   "metadata": {},
   "outputs": [],
   "source": [
    "mean_elo = 1500.\n",
    "elo_width = 400.\n",
    "n_samples = 8000 #used for predicting\n",
    "std_margin = df_games['margin'].std()\n",
    "k_factor = 32 \n",
    "\n",
    "df_games['h_elo_before_game'] = 0\n",
    "df_games['h_elo_after_game'] = 0\n",
    "df_games['a_elo_before_game'] = 0\n",
    "df_games['a_elo_after_game'] = 0"
   ]
  },
  {
   "cell_type": "code",
   "execution_count": 7,
   "id": "cfdcac6f",
   "metadata": {},
   "outputs": [],
   "source": [
    "elo_per_season = {}\n"
   ]
  },
  {
   "cell_type": "code",
   "execution_count": 8,
   "id": "86263541",
   "metadata": {},
   "outputs": [],
   "source": [
    "# we add 1 for the NA team that happens when teams draw\n",
    "num_teams = len(teams)\n",
    "current_elos = np.ones(shape=(num_teams)) * mean_elo\n",
    "\n",
    "# add df for ELOs for each team\n",
    "df_team_elos = pd.DataFrame(index=df_games['yearRoundId'].unique(), columns=range(num_teams))\n",
    "df_team_elos.iloc[0, :] = current_elos\n",
    "\n",
    "# where the magic happens\n",
    "current_season = df_games.at[0, 'year']\n",
    "current_round = df_games.at[0, 'round']"
   ]
  },
  {
   "cell_type": "code",
   "execution_count": 9,
   "id": "305eec45",
   "metadata": {},
   "outputs": [],
   "source": [
    "for row in df_games.itertuples():\n",
    "    if row.year != current_season:\n",
    "        # Check if we are starting a new season. \n",
    "        # Regress all ratings towards the mean\n",
    "        current_elos = update_end_of_season(current_elos)\n",
    "        # Write the beginning of new season ratings to a dict for later lookups.\n",
    "        elo_per_season[row.year] = current_elos.copy()\n",
    "        current_season = row.year\n",
    "\n",
    "    idx = row.Index\n",
    "    h_id = teams.index(row.homeTeam)\n",
    "    a_id = teams.index(row.awayTeam)\n",
    "    # Get current elos\n",
    "    h_elo_before = current_elos[h_id]\n",
    "    a_elo_before = current_elos[a_id]\n",
    "    # Update on game results\n",
    "    if row.winningTeam == row.homeTeam:\n",
    "        h_elo_after, a_elo_after = update_elo(h_elo_before, a_elo_before)\n",
    "    else:\n",
    "        a_elo_after, h_elo_after = update_elo(a_elo_before, h_elo_before)\n",
    "\n",
    "    # Save updated elos\n",
    "    df_games.at[idx, 'h_elo_before_game'] = h_elo_before\n",
    "    df_games.at[idx, 'a_elo_before_game'] = a_elo_before\n",
    "    df_games.at[idx, 'h_elo_after_game'] = h_elo_after\n",
    "    df_games.at[idx, 'a_elo_after_game'] = a_elo_after\n",
    "    current_elos[h_id] = h_elo_after\n",
    "    current_elos[a_id] = a_elo_after\n",
    "\n",
    "    # Save elos to team DataFrame\n",
    "    round_id = row.yearRoundId\n",
    "    df_team_elos.at[round_id, h_id] = h_elo_after\n",
    "    df_team_elos.at[round_id, a_id] = a_elo_after"
   ]
  },
  {
   "cell_type": "code",
   "execution_count": 10,
   "id": "76efa4ea",
   "metadata": {},
   "outputs": [
    {
     "data": {
      "text/html": [
       "<div>\n",
       "<style scoped>\n",
       "    .dataframe tbody tr th:only-of-type {\n",
       "        vertical-align: middle;\n",
       "    }\n",
       "\n",
       "    .dataframe tbody tr th {\n",
       "        vertical-align: top;\n",
       "    }\n",
       "\n",
       "    .dataframe thead th {\n",
       "        text-align: right;\n",
       "    }\n",
       "</style>\n",
       "<table border=\"1\" class=\"dataframe\">\n",
       "  <thead>\n",
       "    <tr style=\"text-align: right;\">\n",
       "      <th></th>\n",
       "      <th>Adelaide</th>\n",
       "      <th>Brisbane Lions</th>\n",
       "      <th>Carlton</th>\n",
       "      <th>Collingwood</th>\n",
       "      <th>Essendon</th>\n",
       "      <th>Fremantle</th>\n",
       "      <th>Geelong</th>\n",
       "      <th>Gold Coast</th>\n",
       "      <th>Greater Western Sydney</th>\n",
       "      <th>Hawthorn</th>\n",
       "      <th>Melbourne</th>\n",
       "      <th>North Melbourne</th>\n",
       "      <th>Port Adelaide</th>\n",
       "      <th>Richmond</th>\n",
       "      <th>St Kilda</th>\n",
       "      <th>Sydney</th>\n",
       "      <th>West Coast</th>\n",
       "      <th>Western Bulldogs</th>\n",
       "      <th>NA</th>\n",
       "    </tr>\n",
       "  </thead>\n",
       "  <tbody>\n",
       "    <tr>\n",
       "      <th>2012R1</th>\n",
       "      <td>1516.0</td>\n",
       "      <td>1516.0</td>\n",
       "      <td>1516.0</td>\n",
       "      <td>1484.0</td>\n",
       "      <td>1516.0</td>\n",
       "      <td>1516.0</td>\n",
       "      <td>1484.0</td>\n",
       "      <td>1484.0</td>\n",
       "      <td>1484.0</td>\n",
       "      <td>1516.0</td>\n",
       "      <td>1484.0</td>\n",
       "      <td>1484.0</td>\n",
       "      <td>1516.0</td>\n",
       "      <td>1484.0</td>\n",
       "      <td>1484.0</td>\n",
       "      <td>1516.0</td>\n",
       "      <td>1516.0</td>\n",
       "      <td>1484.0</td>\n",
       "      <td>1500.0</td>\n",
       "    </tr>\n",
       "    <tr>\n",
       "      <th>2012R2</th>\n",
       "      <td>1530.530498</td>\n",
       "      <td>1500.0</td>\n",
       "      <td>1532.0</td>\n",
       "      <td>1500.0</td>\n",
       "      <td>1532.0</td>\n",
       "      <td>1500.0</td>\n",
       "      <td>1501.469502</td>\n",
       "      <td>1468.0</td>\n",
       "      <td>1468.0</td>\n",
       "      <td>1498.530498</td>\n",
       "      <td>1469.469502</td>\n",
       "      <td>1500.0</td>\n",
       "      <td>1500.0</td>\n",
       "      <td>1468.0</td>\n",
       "      <td>1500.0</td>\n",
       "      <td>1532.0</td>\n",
       "      <td>1530.530498</td>\n",
       "      <td>1469.469502</td>\n",
       "      <td>NaN</td>\n",
       "    </tr>\n",
       "    <tr>\n",
       "      <th>2012R3</th>\n",
       "      <td>1513.060997</td>\n",
       "      <td>1484.0</td>\n",
       "      <td>1546.530498</td>\n",
       "      <td>1485.469502</td>\n",
       "      <td>1545.085581</td>\n",
       "      <td>1516.0</td>\n",
       "      <td>1485.401829</td>\n",
       "      <td>1454.914419</td>\n",
       "      <td>1454.848941</td>\n",
       "      <td>1516.0</td>\n",
       "      <td>1453.401829</td>\n",
       "      <td>1516.067673</td>\n",
       "      <td>1485.469502</td>\n",
       "      <td>1484.067673</td>\n",
       "      <td>1514.597626</td>\n",
       "      <td>1546.530498</td>\n",
       "      <td>1543.681557</td>\n",
       "      <td>1454.871875</td>\n",
       "      <td>NaN</td>\n",
       "    </tr>\n",
       "    <tr>\n",
       "      <th>2012R4</th>\n",
       "      <td>1526.405039</td>\n",
       "      <td>1498.66368</td>\n",
       "      <td>1530.463958</td>\n",
       "      <td>1501.469502</td>\n",
       "      <td>1561.152121</td>\n",
       "      <td>1531.935419</td>\n",
       "      <td>1501.340389</td>\n",
       "      <td>1440.250739</td>\n",
       "      <td>1441.504899</td>\n",
       "      <td>1501.272092</td>\n",
       "      <td>1437.469527</td>\n",
       "      <td>1501.466954</td>\n",
       "      <td>1469.469502</td>\n",
       "      <td>1468.129113</td>\n",
       "      <td>1498.662208</td>\n",
       "      <td>1561.131217</td>\n",
       "      <td>1558.409465</td>\n",
       "      <td>1470.804177</td>\n",
       "      <td>NaN</td>\n",
       "    </tr>\n",
       "    <tr>\n",
       "      <th>2012R5</th>\n",
       "      <td>1539.806282</td>\n",
       "      <td>1482.786944</td>\n",
       "      <td>1546.531721</td>\n",
       "      <td>1520.191269</td>\n",
       "      <td>1542.430354</td>\n",
       "      <td>1515.867656</td>\n",
       "      <td>1517.217124</td>\n",
       "      <td>1427.041035</td>\n",
       "      <td>1426.850991</td>\n",
       "      <td>1488.001752</td>\n",
       "      <td>1424.258772</td>\n",
       "      <td>1514.676658</td>\n",
       "      <td>1456.068259</td>\n",
       "      <td>1456.195562</td>\n",
       "      <td>1511.872962</td>\n",
       "      <td>1574.401558</td>\n",
       "      <td>1570.343015</td>\n",
       "      <td>1485.458085</td>\n",
       "      <td>NaN</td>\n",
       "    </tr>\n",
       "    <tr>\n",
       "      <th>...</th>\n",
       "      <td>...</td>\n",
       "      <td>...</td>\n",
       "      <td>...</td>\n",
       "      <td>...</td>\n",
       "      <td>...</td>\n",
       "      <td>...</td>\n",
       "      <td>...</td>\n",
       "      <td>...</td>\n",
       "      <td>...</td>\n",
       "      <td>...</td>\n",
       "      <td>...</td>\n",
       "      <td>...</td>\n",
       "      <td>...</td>\n",
       "      <td>...</td>\n",
       "      <td>...</td>\n",
       "      <td>...</td>\n",
       "      <td>...</td>\n",
       "      <td>...</td>\n",
       "      <td>...</td>\n",
       "    </tr>\n",
       "    <tr>\n",
       "      <th>2021QF</th>\n",
       "      <td>NaN</td>\n",
       "      <td>1603.288771</td>\n",
       "      <td>NaN</td>\n",
       "      <td>NaN</td>\n",
       "      <td>NaN</td>\n",
       "      <td>NaN</td>\n",
       "      <td>1622.75509</td>\n",
       "      <td>NaN</td>\n",
       "      <td>NaN</td>\n",
       "      <td>NaN</td>\n",
       "      <td>1627.940632</td>\n",
       "      <td>NaN</td>\n",
       "      <td>1678.373034</td>\n",
       "      <td>NaN</td>\n",
       "      <td>NaN</td>\n",
       "      <td>NaN</td>\n",
       "      <td>NaN</td>\n",
       "      <td>NaN</td>\n",
       "      <td>NaN</td>\n",
       "    </tr>\n",
       "    <tr>\n",
       "      <th>2021EF</th>\n",
       "      <td>NaN</td>\n",
       "      <td>NaN</td>\n",
       "      <td>NaN</td>\n",
       "      <td>NaN</td>\n",
       "      <td>1489.680909</td>\n",
       "      <td>NaN</td>\n",
       "      <td>NaN</td>\n",
       "      <td>NaN</td>\n",
       "      <td>1558.588102</td>\n",
       "      <td>NaN</td>\n",
       "      <td>NaN</td>\n",
       "      <td>NaN</td>\n",
       "      <td>NaN</td>\n",
       "      <td>NaN</td>\n",
       "      <td>NaN</td>\n",
       "      <td>1540.282579</td>\n",
       "      <td>NaN</td>\n",
       "      <td>1580.27463</td>\n",
       "      <td>NaN</td>\n",
       "    </tr>\n",
       "    <tr>\n",
       "      <th>2021SF</th>\n",
       "      <td>NaN</td>\n",
       "      <td>1586.230478</td>\n",
       "      <td>NaN</td>\n",
       "      <td>NaN</td>\n",
       "      <td>NaN</td>\n",
       "      <td>NaN</td>\n",
       "      <td>1635.833237</td>\n",
       "      <td>NaN</td>\n",
       "      <td>1545.509955</td>\n",
       "      <td>NaN</td>\n",
       "      <td>NaN</td>\n",
       "      <td>NaN</td>\n",
       "      <td>NaN</td>\n",
       "      <td>NaN</td>\n",
       "      <td>NaN</td>\n",
       "      <td>NaN</td>\n",
       "      <td>NaN</td>\n",
       "      <td>1597.332923</td>\n",
       "      <td>NaN</td>\n",
       "    </tr>\n",
       "    <tr>\n",
       "      <th>2021PF</th>\n",
       "      <td>NaN</td>\n",
       "      <td>NaN</td>\n",
       "      <td>NaN</td>\n",
       "      <td>NaN</td>\n",
       "      <td>NaN</td>\n",
       "      <td>NaN</td>\n",
       "      <td>1619.469831</td>\n",
       "      <td>NaN</td>\n",
       "      <td>NaN</td>\n",
       "      <td>NaN</td>\n",
       "      <td>1644.304037</td>\n",
       "      <td>NaN</td>\n",
       "      <td>1658.70724</td>\n",
       "      <td>NaN</td>\n",
       "      <td>NaN</td>\n",
       "      <td>NaN</td>\n",
       "      <td>NaN</td>\n",
       "      <td>1616.998717</td>\n",
       "      <td>NaN</td>\n",
       "    </tr>\n",
       "    <tr>\n",
       "      <th>2021GF</th>\n",
       "      <td>NaN</td>\n",
       "      <td>NaN</td>\n",
       "      <td>NaN</td>\n",
       "      <td>NaN</td>\n",
       "      <td>NaN</td>\n",
       "      <td>NaN</td>\n",
       "      <td>NaN</td>\n",
       "      <td>NaN</td>\n",
       "      <td>NaN</td>\n",
       "      <td>NaN</td>\n",
       "      <td>1659.049163</td>\n",
       "      <td>NaN</td>\n",
       "      <td>NaN</td>\n",
       "      <td>NaN</td>\n",
       "      <td>NaN</td>\n",
       "      <td>NaN</td>\n",
       "      <td>NaN</td>\n",
       "      <td>1602.253591</td>\n",
       "      <td>NaN</td>\n",
       "    </tr>\n",
       "  </tbody>\n",
       "</table>\n",
       "<p>275 rows × 19 columns</p>\n",
       "</div>"
      ],
      "text/plain": [
       "           Adelaide Brisbane Lions      Carlton  Collingwood     Essendon  \\\n",
       "2012R1       1516.0         1516.0       1516.0       1484.0       1516.0   \n",
       "2012R2  1530.530498         1500.0       1532.0       1500.0       1532.0   \n",
       "2012R3  1513.060997         1484.0  1546.530498  1485.469502  1545.085581   \n",
       "2012R4  1526.405039     1498.66368  1530.463958  1501.469502  1561.152121   \n",
       "2012R5  1539.806282    1482.786944  1546.531721  1520.191269  1542.430354   \n",
       "...             ...            ...          ...          ...          ...   \n",
       "2021QF          NaN    1603.288771          NaN          NaN          NaN   \n",
       "2021EF          NaN            NaN          NaN          NaN  1489.680909   \n",
       "2021SF          NaN    1586.230478          NaN          NaN          NaN   \n",
       "2021PF          NaN            NaN          NaN          NaN          NaN   \n",
       "2021GF          NaN            NaN          NaN          NaN          NaN   \n",
       "\n",
       "          Fremantle      Geelong   Gold Coast Greater Western Sydney  \\\n",
       "2012R1       1516.0       1484.0       1484.0                 1484.0   \n",
       "2012R2       1500.0  1501.469502       1468.0                 1468.0   \n",
       "2012R3       1516.0  1485.401829  1454.914419            1454.848941   \n",
       "2012R4  1531.935419  1501.340389  1440.250739            1441.504899   \n",
       "2012R5  1515.867656  1517.217124  1427.041035            1426.850991   \n",
       "...             ...          ...          ...                    ...   \n",
       "2021QF          NaN   1622.75509          NaN                    NaN   \n",
       "2021EF          NaN          NaN          NaN            1558.588102   \n",
       "2021SF          NaN  1635.833237          NaN            1545.509955   \n",
       "2021PF          NaN  1619.469831          NaN                    NaN   \n",
       "2021GF          NaN          NaN          NaN                    NaN   \n",
       "\n",
       "           Hawthorn    Melbourne North Melbourne Port Adelaide     Richmond  \\\n",
       "2012R1       1516.0       1484.0          1484.0        1516.0       1484.0   \n",
       "2012R2  1498.530498  1469.469502          1500.0        1500.0       1468.0   \n",
       "2012R3       1516.0  1453.401829     1516.067673   1485.469502  1484.067673   \n",
       "2012R4  1501.272092  1437.469527     1501.466954   1469.469502  1468.129113   \n",
       "2012R5  1488.001752  1424.258772     1514.676658   1456.068259  1456.195562   \n",
       "...             ...          ...             ...           ...          ...   \n",
       "2021QF          NaN  1627.940632             NaN   1678.373034          NaN   \n",
       "2021EF          NaN          NaN             NaN           NaN          NaN   \n",
       "2021SF          NaN          NaN             NaN           NaN          NaN   \n",
       "2021PF          NaN  1644.304037             NaN    1658.70724          NaN   \n",
       "2021GF          NaN  1659.049163             NaN           NaN          NaN   \n",
       "\n",
       "           St Kilda       Sydney   West Coast Western Bulldogs      NA  \n",
       "2012R1       1484.0       1516.0       1516.0           1484.0  1500.0  \n",
       "2012R2       1500.0       1532.0  1530.530498      1469.469502     NaN  \n",
       "2012R3  1514.597626  1546.530498  1543.681557      1454.871875     NaN  \n",
       "2012R4  1498.662208  1561.131217  1558.409465      1470.804177     NaN  \n",
       "2012R5  1511.872962  1574.401558  1570.343015      1485.458085     NaN  \n",
       "...             ...          ...          ...              ...     ...  \n",
       "2021QF          NaN          NaN          NaN              NaN     NaN  \n",
       "2021EF          NaN  1540.282579          NaN       1580.27463     NaN  \n",
       "2021SF          NaN          NaN          NaN      1597.332923     NaN  \n",
       "2021PF          NaN          NaN          NaN      1616.998717     NaN  \n",
       "2021GF          NaN          NaN          NaN      1602.253591     NaN  \n",
       "\n",
       "[275 rows x 19 columns]"
      ]
     },
     "execution_count": 10,
     "metadata": {},
     "output_type": "execute_result"
    }
   ],
   "source": [
    "cols = df_games['homeTeam'].unique().tolist()\n",
    "cols.sort()\n",
    "cols.append(\"NA\")\n",
    "df_team_elos.columns = cols\n",
    "df_team_elos"
   ]
  },
  {
   "cell_type": "code",
   "execution_count": 11,
   "id": "3f6effe1",
   "metadata": {},
   "outputs": [
    {
     "name": "stdout",
     "output_type": "stream",
     "text": [
      "Adelaide                  1368.023329\n",
      "Brisbane Lions            1609.085878\n",
      "Carlton                   1425.144573\n",
      "Collingwood               1421.075225\n",
      "Essendon                  1489.873342\n",
      "Fremantle                 1478.065781\n",
      "Geelong                   1656.465205\n",
      "Gold Coast                1382.738172\n",
      "Greater Western Sydney      1530.6068\n",
      "Hawthorn                  1448.463237\n",
      "Melbourne                 1592.662341\n",
      "North Melbourne           1338.384741\n",
      "Port Adelaide              1650.78419\n",
      "Richmond                   1510.05026\n",
      "St Kilda                  1484.076599\n",
      "Sydney                    1548.063274\n",
      "West Coast                1486.442984\n",
      "Western Bulldogs          1579.994066\n",
      "NA                                NaN\n",
      "Name: 2021R22, dtype: object\n"
     ]
    }
   ],
   "source": [
    "print(df_team_elos.loc['2021R22'])\n"
   ]
  },
  {
   "cell_type": "code",
   "execution_count": 12,
   "id": "a74221ff",
   "metadata": {},
   "outputs": [],
   "source": [
    "df_team_elos.fillna(method='ffill', inplace=True)\n"
   ]
  },
  {
   "cell_type": "code",
   "execution_count": 13,
   "id": "d3071178",
   "metadata": {},
   "outputs": [
    {
     "data": {
      "text/plain": [
       "<matplotlib.legend.Legend at 0x13eb5f280>"
      ]
     },
     "execution_count": 13,
     "metadata": {},
     "output_type": "execute_result"
    },
    {
     "data": {
      "image/png": "[encoded data removed]",
      "text/plain": [
       "<Figure size 432x288 with 1 Axes>"
      ]
     },
     "metadata": {
      "needs_background": "light"
     },
     "output_type": "display_data"
    }
   ],
   "source": [
    "plt.plot(df_team_elos)\n",
    "plt.legend(cols)"
   ]
  },
  {
   "cell_type": "code",
   "execution_count": 14,
   "id": "b7d2e951",
   "metadata": {},
   "outputs": [
    {
     "name": "stdout",
     "output_type": "stream",
     "text": [
      "-0.7602601994963146\n"
     ]
    },
    {
     "name": "stderr",
     "output_type": "stream",
     "text": [
      "/opt/homebrew/lib/python3.9/site-packages/seaborn/distributions.py:2619: FutureWarning: `distplot` is a deprecated function and will be removed in a future version. Please adapt your code to use either `displot` (a figure-level function with similar flexibility) or `histplot` (an axes-level function for histograms).\n",
      "  warnings.warn(msg, FutureWarning)\n"
     ]
    },
    {
     "data": {
      "image/png": "[encoded data removed]",
      "text/plain": [
       "<Figure size 432x288 with 1 Axes>"
      ]
     },
     "metadata": {
      "needs_background": "light"
     },
     "output_type": "display_data"
    }
   ],
   "source": [
    "n_samples = 1000\n",
    "samples = df_games[df_games.year > 2015].sample(n_samples)\n",
    "loss=0\n",
    "expected_list = []\n",
    "for row in samples.itertuples():\n",
    "    h_elo = row.h_elo_before_game\n",
    "    a_elo = row.a_elo_before_game\n",
    "    h_expected = expected_result(h_elo, a_elo)\n",
    "    expected_list.append(h_expected)\n",
    "    loss += np.log(h_expected)\n",
    "print(loss/n_samples)\n",
    "\n",
    "sns.distplot(expected_list, kde=False, bins=20)\n",
    "plt.xlabel('Elo Expected Wins for Actual Winner')\n",
    "plt.ylabel('Counts')\n",
    "plt.show()"
   ]
  },
  {
   "cell_type": "code",
   "execution_count": 30,
   "id": "0e4ec1b8",
   "metadata": {},
   "outputs": [],
   "source": [
    "from sklearn.ensemble import RandomForestClassifier\n",
    "from sklearn.model_selection import train_test_split\n",
    "rf = RandomForestRegressor(n_estimators = 1000, random_state = 42)"
   ]
  },
  {
   "cell_type": "code",
   "execution_count": 37,
   "id": "13b16e63",
   "metadata": {},
   "outputs": [],
   "source": [
    "df_games_model = df_games.drop(['attendance','round','h_elo_after_game','a_elo_after_game','margin','losingTeam','gameId','date','yearRoundId','homeTeamScore','awayTeamScore'],axis=1)"
   ]
  },
  {
   "cell_type": "code",
   "execution_count": 48,
   "id": "b1db02ce",
   "metadata": {},
   "outputs": [],
   "source": [
    "df_games_model.fillna(method='ffill', inplace=True)"
   ]
  },
  {
   "cell_type": "code",
   "execution_count": 49,
   "id": "b2716cac",
   "metadata": {},
   "outputs": [
    {
     "data": {
      "text/plain": [
       "1817    16.0\n",
       "1818     2.0\n",
       "1819     9.0\n",
       "1823     4.0\n",
       "1820     1.0\n",
       "        ... \n",
       "364     14.0\n",
       "365      6.0\n",
       "366     14.0\n",
       "367      6.0\n",
       "368     14.0\n",
       "Name: winningTeam, Length: 1817, dtype: float64"
      ]
     },
     "execution_count": 49,
     "metadata": {},
     "output_type": "execute_result"
    }
   ],
   "source": [
    "df_train = df_games_model.where(df_games_model['year']!=2021).dropna()\n",
    "x_train = df_train.loc[:, df_train.columns != 'winningTeam']\n",
    "y_train = df_train.loc[:,'winningTeam']\n",
    "y_train"
   ]
  },
  {
   "cell_type": "code",
   "execution_count": 50,
   "id": "6ae6a589",
   "metadata": {},
   "outputs": [
    {
     "data": {
      "text/plain": [
       "0      14.0\n",
       "1      18.0\n",
       "2      10.0\n",
       "3       0.0\n",
       "4       9.0\n",
       "       ... \n",
       "202     6.0\n",
       "203    18.0\n",
       "204    10.0\n",
       "205    18.0\n",
       "206    10.0\n",
       "Name: winningTeam, Length: 207, dtype: float64"
      ]
     },
     "execution_count": 50,
     "metadata": {},
     "output_type": "execute_result"
    }
   ],
   "source": [
    "df_test = df_games_model.where(df_games_model['year']==2021).dropna()\n",
    "x_test = df_test.loc[:, df_test.columns != 'winningTeam']\n",
    "y_test = df_test.loc[:,'winningTeam']\n",
    "y_test"
   ]
  },
  {
   "cell_type": "code",
   "execution_count": 51,
   "id": "9c678099",
   "metadata": {},
   "outputs": [],
   "source": [
    "from sklearn import preprocessing\n",
    "le = preprocessing.LabelEncoder()\n",
    "for column_name in df_games_model.columns:\n",
    "        if df_games_model[column_name].dtype == object:\n",
    "            df_games_model[column_name] = le.fit_transform(df_games_model[column_name])\n",
    "        else:\n",
    "            pass"
   ]
  },
  {
   "cell_type": "code",
   "execution_count": 52,
   "id": "1686d91e",
   "metadata": {},
   "outputs": [],
   "source": [
    "df_test = df_games_model.loc[:, df_games_model.columns == 'winningTeam']\n",
    "df_train = df_games_model.loc[:, df_games_model.columns != 'winningTeam']"
   ]
  },
  {
   "cell_type": "code",
   "execution_count": 53,
   "id": "fe0c01ef",
   "metadata": {},
   "outputs": [],
   "source": [
    "train_features, test_features, train_labels, test_labels = train_test_split(df_train, df_test, test_size = 0.25, random_state = 42)"
   ]
  },
  {
   "cell_type": "code",
   "execution_count": 54,
   "id": "58f18690",
   "metadata": {},
   "outputs": [
    {
     "name": "stdout",
     "output_type": "stream",
     "text": [
      "Training Features Shape: (1518, 8)\n",
      "Training Labels Shape: (1518, 1)\n",
      "Testing Features Shape: (506, 8)\n",
      "Testing Labels Shape: (506, 1)\n"
     ]
    }
   ],
   "source": [
    "print('Training Features Shape:', train_features.shape)\n",
    "print('Training Labels Shape:', train_labels.shape)\n",
    "print('Testing Features Shape:', test_features.shape)\n",
    "print('Testing Labels Shape:', test_labels.shape)"
   ]
  },
  {
   "cell_type": "code",
   "execution_count": 61,
   "id": "2f32b765",
   "metadata": {},
   "outputs": [
    {
     "name": "stderr",
     "output_type": "stream",
     "text": [
      "/var/folders/y5/lyr7l8ds5mbb60cw701w_7vh0000gn/T/ipykernel_60227/3689357811.py:4: DataConversionWarning: A column-vector y was passed when a 1d array was expected. Please change the shape of y to (n_samples,), for example using ravel().\n",
      "  rf.fit(train_features, train_labels);\n"
     ]
    }
   ],
   "source": [
    "# Instantiate model with 1000 decision trees\n",
    "rf = RandomForestClassifier(n_estimators = 1000, random_state = 42)\n",
    "# Train the model on training data\n",
    "rf.fit(train_features, train_labels);"
   ]
  },
  {
   "cell_type": "code",
   "execution_count": 91,
   "id": "576f5436",
   "metadata": {},
   "outputs": [
    {
     "name": "stdout",
     "output_type": "stream",
     "text": [
      "Mean Absolute Error: winningTeam    2.69\n",
      "dtype: float64 degrees.\n"
     ]
    },
    {
     "name": "stderr",
     "output_type": "stream",
     "text": [
      "/opt/homebrew/lib/python3.9/site-packages/numpy/core/fromnumeric.py:3472: FutureWarning: In a future version, DataFrame.mean(axis=None) will return a scalar mean over the entire DataFrame. To retain the old behavior, use 'frame.mean(axis=0)' or just 'frame.mean()'\n",
      "  return mean(axis=axis, dtype=dtype, out=out, **kwargs)\n"
     ]
    }
   ],
   "source": [
    "# Use the forest's predict method on the test data\n",
    "predictions = rf.predict(test_features).reshape(506,1)\n",
    "# Calculate the absolute errors\n",
    "errors = abs(predictions - test_labels)\n",
    "# Print out the mean absolute error (mae)\n",
    "print('Mean Absolute Error:', round(np.mean(errors), 2), 'degrees.')"
   ]
  },
  {
   "cell_type": "code",
   "execution_count": 92,
   "id": "75f9ad25",
   "metadata": {},
   "outputs": [
    {
     "data": {
      "text/plain": [
       "0.5731225296442688"
      ]
     },
     "execution_count": 92,
     "metadata": {},
     "output_type": "execute_result"
    }
   ],
   "source": [
    "res = test_labels - predictions\n",
    "sum(res['winningTeam'] == 0)/len(res)"
   ]
  },
  {
   "cell_type": "code",
   "execution_count": null,
   "id": "0429433c",
   "metadata": {},
   "outputs": [],
   "source": []
  }
 ],
 "metadata": {
  "kernelspec": {
   "display_name": "Python 3 (ipykernel)",
   "language": "python",
   "name": "python3"
  },
  "language_info": {
   "codemirror_mode": {
    "name": "ipython",
    "version": 3
   },
   "file_extension": ".py",
   "mimetype": "text/x-python",
   "name": "python",
   "nbconvert_exporter": "python",
   "pygments_lexer": "ipython3",
   "version": "3.9.10"
  }
 },
 "nbformat": 4,
 "nbformat_minor": 5
}
